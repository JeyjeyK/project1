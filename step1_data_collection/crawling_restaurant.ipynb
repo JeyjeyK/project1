{
 "cells": [
  {
   "cell_type": "markdown",
   "metadata": {},
   "source": [
    "## 맛집 주소 크롤링 , 위/경도는 카카오 API"
   ]
  },
  {
   "cell_type": "markdown",
   "metadata": {},
   "source": [
    "### 샘플링한 맛집 자료 주소 크롤링하기"
   ]
  },
  {
   "cell_type": "code",
   "execution_count": 2,
   "metadata": {},
   "outputs": [],
   "source": [
    "import pandas as pd\n",
    "import numpy as np\n",
    "import time\n",
    "from time import sleep\n",
    "import json\n",
    "from urllib.parse import quote\n",
    "from bs4 import BeautifulSoup\n",
    "from selenium import webdriver\n",
    "from selenium.webdriver.common.keys import Keys\n",
    "from selenium.webdriver.common.by import By\n",
    "from selenium.webdriver.support import expected_conditions as EC\n",
    "from selenium.webdriver.support.ui import WebDriverWait"
   ]
  },
  {
   "cell_type": "code",
   "execution_count": 6,
   "metadata": {},
   "outputs": [
    {
     "data": {
      "text/html": [
       "<div>\n",
       "<style scoped>\n",
       "    .dataframe tbody tr th:only-of-type {\n",
       "        vertical-align: middle;\n",
       "    }\n",
       "\n",
       "    .dataframe tbody tr th {\n",
       "        vertical-align: top;\n",
       "    }\n",
       "\n",
       "    .dataframe thead th {\n",
       "        text-align: right;\n",
       "    }\n",
       "</style>\n",
       "<table border=\"1\" class=\"dataframe\">\n",
       "  <thead>\n",
       "    <tr style=\"text-align: right;\">\n",
       "      <th></th>\n",
       "      <th>CMPNM_NM</th>\n",
       "      <th>ADSTRD_NM</th>\n",
       "      <th>MLSFC_NM</th>\n",
       "      <th>SCLAS_NM</th>\n",
       "      <th>JJINHBT_SALES_PRICE_RATE</th>\n",
       "      <th>JJINHBT_SALES_CO_RATE</th>\n",
       "      <th>OTSD_SALES_PRICE_RATE</th>\n",
       "      <th>OTSD_SALES_CO_RATE</th>\n",
       "      <th>ALL_SALES_PRICE_RATE</th>\n",
       "      <th>ALL_SALES_CO_RATE</th>\n",
       "    </tr>\n",
       "  </thead>\n",
       "  <tbody>\n",
       "    <tr>\n",
       "      <th>0</th>\n",
       "      <td>청춘두루치기</td>\n",
       "      <td>노형동</td>\n",
       "      <td>한식</td>\n",
       "      <td>가정식</td>\n",
       "      <td>0.392500</td>\n",
       "      <td>0.362500</td>\n",
       "      <td>0.002500</td>\n",
       "      <td>0.012500</td>\n",
       "      <td>0.052500</td>\n",
       "      <td>0.135000</td>\n",
       "    </tr>\n",
       "    <tr>\n",
       "      <th>1</th>\n",
       "      <td>원풍해장국</td>\n",
       "      <td>조천읍</td>\n",
       "      <td>한식</td>\n",
       "      <td>가정식</td>\n",
       "      <td>0.665000</td>\n",
       "      <td>0.841250</td>\n",
       "      <td>0.020000</td>\n",
       "      <td>0.151250</td>\n",
       "      <td>0.060000</td>\n",
       "      <td>0.425000</td>\n",
       "    </tr>\n",
       "    <tr>\n",
       "      <th>2</th>\n",
       "      <td>돼지</td>\n",
       "      <td>일도2동</td>\n",
       "      <td>아시아음식</td>\n",
       "      <td>중식</td>\n",
       "      <td>0.110000</td>\n",
       "      <td>0.200000</td>\n",
       "      <td>0.000000</td>\n",
       "      <td>0.000000</td>\n",
       "      <td>0.010000</td>\n",
       "      <td>0.110000</td>\n",
       "    </tr>\n",
       "    <tr>\n",
       "      <th>3</th>\n",
       "      <td>홍리짬뽕</td>\n",
       "      <td>동홍동</td>\n",
       "      <td>한식</td>\n",
       "      <td>중식</td>\n",
       "      <td>0.301818</td>\n",
       "      <td>0.540000</td>\n",
       "      <td>0.004545</td>\n",
       "      <td>0.040000</td>\n",
       "      <td>0.035455</td>\n",
       "      <td>0.240909</td>\n",
       "    </tr>\n",
       "    <tr>\n",
       "      <th>4</th>\n",
       "      <td>돌담집</td>\n",
       "      <td>오라동</td>\n",
       "      <td>한식</td>\n",
       "      <td>단품요리 전문</td>\n",
       "      <td>0.300000</td>\n",
       "      <td>0.295000</td>\n",
       "      <td>0.025000</td>\n",
       "      <td>0.035000</td>\n",
       "      <td>0.065000</td>\n",
       "      <td>0.135000</td>\n",
       "    </tr>\n",
       "    <tr>\n",
       "      <th>...</th>\n",
       "      <td>...</td>\n",
       "      <td>...</td>\n",
       "      <td>...</td>\n",
       "      <td>...</td>\n",
       "      <td>...</td>\n",
       "      <td>...</td>\n",
       "      <td>...</td>\n",
       "      <td>...</td>\n",
       "      <td>...</td>\n",
       "      <td>...</td>\n",
       "    </tr>\n",
       "    <tr>\n",
       "      <th>1995</th>\n",
       "      <td>삼성웰스토리 (주)호텔신라제주면세점</td>\n",
       "      <td>연동</td>\n",
       "      <td>한식</td>\n",
       "      <td>구내식당/푸드코트</td>\n",
       "      <td>0.340000</td>\n",
       "      <td>0.365000</td>\n",
       "      <td>0.000000</td>\n",
       "      <td>0.002500</td>\n",
       "      <td>0.025000</td>\n",
       "      <td>0.152500</td>\n",
       "    </tr>\n",
       "    <tr>\n",
       "      <th>1996</th>\n",
       "      <td>제주돈애월점</td>\n",
       "      <td>애월읍</td>\n",
       "      <td>한식</td>\n",
       "      <td>돼지고기</td>\n",
       "      <td>0.697273</td>\n",
       "      <td>0.259091</td>\n",
       "      <td>0.150000</td>\n",
       "      <td>0.206364</td>\n",
       "      <td>0.217273</td>\n",
       "      <td>0.268182</td>\n",
       "    </tr>\n",
       "    <tr>\n",
       "      <th>1997</th>\n",
       "      <td>가을남자의커피향기</td>\n",
       "      <td>애월읍</td>\n",
       "      <td>한식</td>\n",
       "      <td>단품요리 전문</td>\n",
       "      <td>0.090000</td>\n",
       "      <td>0.252500</td>\n",
       "      <td>0.007500</td>\n",
       "      <td>0.147500</td>\n",
       "      <td>0.013750</td>\n",
       "      <td>0.216250</td>\n",
       "    </tr>\n",
       "    <tr>\n",
       "      <th>1998</th>\n",
       "      <td>1970새마을포차 제주시청점</td>\n",
       "      <td>이도2동</td>\n",
       "      <td>주점및주류판매</td>\n",
       "      <td>포장마차</td>\n",
       "      <td>0.958571</td>\n",
       "      <td>0.652143</td>\n",
       "      <td>0.028571</td>\n",
       "      <td>0.120000</td>\n",
       "      <td>0.085714</td>\n",
       "      <td>0.297857</td>\n",
       "    </tr>\n",
       "    <tr>\n",
       "      <th>1999</th>\n",
       "      <td>산정아구찜</td>\n",
       "      <td>천지동</td>\n",
       "      <td>한식</td>\n",
       "      <td>아구찜</td>\n",
       "      <td>0.489231</td>\n",
       "      <td>0.407308</td>\n",
       "      <td>0.012692</td>\n",
       "      <td>0.045769</td>\n",
       "      <td>0.050000</td>\n",
       "      <td>0.179615</td>\n",
       "    </tr>\n",
       "  </tbody>\n",
       "</table>\n",
       "<p>2000 rows × 10 columns</p>\n",
       "</div>"
      ],
      "text/plain": [
       "                 CMPNM_NM ADSTRD_NM MLSFC_NM   SCLAS_NM  \\\n",
       "0                  청춘두루치기       노형동       한식        가정식   \n",
       "1                   원풍해장국       조천읍       한식        가정식   \n",
       "2                      돼지      일도2동    아시아음식         중식   \n",
       "3                    홍리짬뽕       동홍동       한식         중식   \n",
       "4                     돌담집       오라동       한식    단품요리 전문   \n",
       "...                   ...       ...      ...        ...   \n",
       "1995  삼성웰스토리 (주)호텔신라제주면세점        연동       한식  구내식당/푸드코트   \n",
       "1996               제주돈애월점       애월읍       한식       돼지고기   \n",
       "1997            가을남자의커피향기       애월읍       한식    단품요리 전문   \n",
       "1998      1970새마을포차 제주시청점      이도2동  주점및주류판매       포장마차   \n",
       "1999                산정아구찜       천지동       한식        아구찜   \n",
       "\n",
       "      JJINHBT_SALES_PRICE_RATE  JJINHBT_SALES_CO_RATE  OTSD_SALES_PRICE_RATE  \\\n",
       "0                     0.392500               0.362500               0.002500   \n",
       "1                     0.665000               0.841250               0.020000   \n",
       "2                     0.110000               0.200000               0.000000   \n",
       "3                     0.301818               0.540000               0.004545   \n",
       "4                     0.300000               0.295000               0.025000   \n",
       "...                        ...                    ...                    ...   \n",
       "1995                  0.340000               0.365000               0.000000   \n",
       "1996                  0.697273               0.259091               0.150000   \n",
       "1997                  0.090000               0.252500               0.007500   \n",
       "1998                  0.958571               0.652143               0.028571   \n",
       "1999                  0.489231               0.407308               0.012692   \n",
       "\n",
       "      OTSD_SALES_CO_RATE  ALL_SALES_PRICE_RATE  ALL_SALES_CO_RATE  \n",
       "0               0.012500              0.052500           0.135000  \n",
       "1               0.151250              0.060000           0.425000  \n",
       "2               0.000000              0.010000           0.110000  \n",
       "3               0.040000              0.035455           0.240909  \n",
       "4               0.035000              0.065000           0.135000  \n",
       "...                  ...                   ...                ...  \n",
       "1995            0.002500              0.025000           0.152500  \n",
       "1996            0.206364              0.217273           0.268182  \n",
       "1997            0.147500              0.013750           0.216250  \n",
       "1998            0.120000              0.085714           0.297857  \n",
       "1999            0.045769              0.050000           0.179615  \n",
       "\n",
       "[2000 rows x 10 columns]"
      ]
     },
     "execution_count": 6,
     "metadata": {},
     "output_type": "execute_result"
    }
   ],
   "source": [
    "df = pd.read_csv('con_data/맛집_sample.csv')\n",
    "df"
   ]
  },
  {
   "cell_type": "code",
   "execution_count": 7,
   "metadata": {},
   "outputs": [],
   "source": [
    "options = webdriver.ChromeOptions()\n",
    " \n",
    "# 창 숨기는 옵션 추가\n",
    "options.add_argument(\"headless\")"
   ]
  },
  {
   "cell_type": "code",
   "execution_count": 8,
   "metadata": {},
   "outputs": [],
   "source": [
    "data=[]\n",
    "data_n =[]\n",
    "\n",
    "for place in df['CMPNM_NM']:\n",
    "        kakao_map_search_url = f\"https://map.kakao.com/?q={place}\"\n",
    "        driver = webdriver.Chrome(options=options) #크롬창 띄우기\n",
    "        driver.get(kakao_map_search_url) #위의 url로 이동\n",
    "        driver.implicitly_wait(time_to_wait=3) #url로 이동하기까지 3초 기다려줌\n",
    "        soup = BeautifulSoup(driver.page_source,'html.parser') \n",
    "        #불러온 html페이지를 뷰티풀솦으로 Pasing함       \n",
    "        try:\n",
    "                address = driver.find_element(By.XPATH, '//*[@id=\"info.search.place.list\"]/li/div[5]/div[2]/p[1]').text\n",
    "                tel = driver.find_element(By.XPATH,'//*[@id=\"info.search.place.list\"]/li/div[5]/div[4]/span[1]').text\n",
    "                data.append({'이름': place, '주소':address,'전화번호': tel})\n",
    "                time.sleep(5)\n",
    "        except:\n",
    "                data_n.append({'이름': place})"
   ]
  },
  {
   "cell_type": "code",
   "execution_count": null,
   "metadata": {},
   "outputs": [],
   "source": [
    "df1 = pd.DataFrame(data)\n",
    "df2 = pd.DataFrame(data_n)"
   ]
  },
  {
   "cell_type": "code",
   "execution_count": null,
   "metadata": {},
   "outputs": [],
   "source": [
    "sample = df1[(df1['주소'].apply(lambda x: x.find('제주')) == 0)].reset_index(drop=True)\n",
    "sample #주소에 제주가 들어가는 데이터만 뽑기"
   ]
  },
  {
   "cell_type": "markdown",
   "metadata": {},
   "source": [
    "### 카카오 API로 위도 경도 받아오기"
   ]
  },
  {
   "cell_type": "code",
   "execution_count": null,
   "metadata": {},
   "outputs": [],
   "source": [
    "with open('C:\\workspace\\KakaoAPI.txt') as file:\n",
    "    road_key = file.read()"
   ]
  },
  {
   "cell_type": "code",
   "execution_count": null,
   "metadata": {},
   "outputs": [],
   "source": [
    "base_url = 'https://dapi.kakao.com/v2/local/search/address.json'\n",
    "lat_list, lng_list = [], []\n",
    "header = {'Authorization': f'KakaoAK {road_key}'}\n",
    "for i in sample.index:\n",
    "    try:\n",
    "        url = f'{base_url}?query={quote(sample[\"주소\"][i])}'\n",
    "        result = requests.get(url, headers=header).json()\n",
    "        lat_list.append(result['documents'][0]['y'])\n",
    "        lng_list.append(result['documents'][0]['x'])\n",
    "    except:\n",
    "        print(sample.이름[i])"
   ]
  },
  {
   "cell_type": "code",
   "execution_count": null,
   "metadata": {},
   "outputs": [],
   "source": [
    "sample[sample['이름']=='뚱보조개 바다풍경점'] #위도,경도 못 불러오는 주소의 상호명 찾기"
   ]
  },
  {
   "cell_type": "code",
   "execution_count": null,
   "metadata": {},
   "outputs": [],
   "source": [
    "sample['주소'][105]='제주특별자치도 제주시 동한두기길 39' #주소 찾아서 바꾸고 다시 위에 위도,경도 불러오기"
   ]
  },
  {
   "cell_type": "code",
   "execution_count": null,
   "metadata": {},
   "outputs": [],
   "source": [
    "sample['위도'] = lat_list #불러온 위도와 경도를 sample에 추가 column으로 만들기\n",
    "sample['경도'] = lng_list"
   ]
  },
  {
   "cell_type": "code",
   "execution_count": null,
   "metadata": {},
   "outputs": [],
   "source": [
    "sample2 = df.rename(columns={'CMPNM_NM':'이름','ADSTRD_NM':'주소2','MLSFC_NM':'구분','SCLAS_NM':'구분2'})\n",
    "sample2 #원 데이터의 컬럼명 바꾸기"
   ]
  },
  {
   "cell_type": "code",
   "execution_count": null,
   "metadata": {},
   "outputs": [],
   "source": [
    "sample3 = pd.merge(sample,sample2,on='이름',how='inner') #원래의 데이터와 크롤링+위도경도 '이름'을 기준으로 데이터를 합침\n",
    "sample3"
   ]
  },
  {
   "cell_type": "code",
   "execution_count": 39,
   "metadata": {},
   "outputs": [
    {
     "data": {
      "text/plain": [
       "[{'이름': '화수목 제주'},\n",
       " {'이름': '바다119 제주'},\n",
       " {'이름': '신풍해장국 제주'},\n",
       " {'이름': '다다참치 제주'},\n",
       " {'이름': '로얄바 제주'},\n",
       " {'이름': '함경면옥 제주'}]"
      ]
     },
     "execution_count": 39,
     "metadata": {},
     "output_type": "execute_result"
    }
   ],
   "source": [
    "sample3.to_excel('con_data/맛집_test2.xlsx',index = False) #데이터 저장"
   ]
  },
  {
   "cell_type": "code",
   "execution_count": null,
   "metadata": {},
   "outputs": [],
   "source": [
    "import folium\n",
    "import pandas as pd"
   ]
  },
  {
   "cell_type": "code",
   "execution_count": null,
   "metadata": {},
   "outputs": [],
   "source": [
    "map=folium.Map(location=[sample3.위도.mean(), sample3.경도.mean()], zoom_start=10)\n",
    "map"
   ]
  },
  {
   "cell_type": "code",
   "execution_count": null,
   "metadata": {},
   "outputs": [],
   "source": [
    "tiles = \"http://mt0.google.com/vt/lyrs=m&hl=ko&x={x}&y={y}&z={z}\" #구글지도 타일 설정\n",
    "attr= \"Google\" #속성 설정\n",
    "map = folium.Map(location=[sample3['위도'].mean(), sample3['경도'].mean()], #folium을 사용하여 지도 초기화\n",
    "                 tiles=tiles, attr=attr)\n",
    "for i in sample3.index: #df의 각 행을 반복\n",
    "    folium.Marker(\n",
    "        location=[sample3.loc[i, '위도'], sample3.loc[i, '경도']],\n",
    "        tooltip=sample3.loc[i, '이름'], #마커에 마우스를 올렸을 때 표시되는 툴팁으로 약국명 표시\n",
    "        popup=folium.Popup(sample3.loc[i, '주소'], max_width=200),\n",
    "        icon=folium.Icon(color='orange', icon='star')\n",
    "    ).add_to(map)"
   ]
  },
  {
   "cell_type": "code",
   "execution_count": null,
   "metadata": {},
   "outputs": [],
   "source": [
    "map"
   ]
  }
 ],
 "metadata": {
  "kernelspec": {
   "display_name": "Python 3",
   "language": "python",
   "name": "python3"
  },
  "language_info": {
   "codemirror_mode": {
    "name": "ipython",
    "version": 3
   },
   "file_extension": ".py",
   "mimetype": "text/x-python",
   "name": "python",
   "nbconvert_exporter": "python",
   "pygments_lexer": "ipython3",
   "version": "3.9.12"
  }
 },
 "nbformat": 4,
 "nbformat_minor": 2
}
